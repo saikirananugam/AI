{
  "nbformat": 4,
  "nbformat_minor": 0,
  "metadata": {
    "colab": {
      "name": "assignment2ipynb",
      "provenance": [],
      "authorship_tag": "ABX9TyMXJkeHsw1bq3x1NajKoGgL",
      "include_colab_link": true
    },
    "kernelspec": {
      "name": "python3",
      "display_name": "Python 3"
    },
    "language_info": {
      "name": "python"
    }
  },
  "cells": [
    {
      "cell_type": "markdown",
      "metadata": {
        "id": "view-in-github",
        "colab_type": "text"
      },
      "source": [
        "<a href=\"https://colab.research.google.com/github/saikirananugam/AI/blob/main/assignment2.ipynb\" target=\"_parent\"><img src=\"https://colab.research.google.com/assets/colab-badge.svg\" alt=\"Open In Colab\"/></a>"
      ]
    },
    {
      "cell_type": "code",
      "metadata": {
        "colab": {
          "base_uri": "https://localhost:8080/"
        },
        "id": "rEDUcF4Pz7G0",
        "outputId": "8840285d-6641-4838-c15c-5b5c29250874"
      },
      "source": [
        "import numpy as np\n",
        "\n",
        "x = np.random.uniform(-10,10)\n",
        "\n",
        "eta = 0.001\n",
        "iterations = 5000\n",
        "\n",
        "for i in range(iterations):\n",
        "    gradx = 4 * (x**3) + 6*x\n",
        "    stepx = -eta*gradx\n",
        "    x += stepx\n",
        "\n",
        "x = round(x)\n",
        "print(f'The value of x is : ', x)\n",
        "print(f'Minimum Value of f(x) : ', (x*4)+3*x*2+10 )"
      ],
      "execution_count": 1,
      "outputs": [
        {
          "output_type": "stream",
          "name": "stdout",
          "text": [
            "The value of x is :  0\n",
            "Minimum Value of f(x) :  10\n"
          ]
        }
      ]
    }
  ]
}