{
  "nbformat": 4,
  "nbformat_minor": 0,
  "metadata": {
    "colab": {
      "name": "Assignment1.ipynb",
      "provenance": [],
      "authorship_tag": "ABX9TyNEY3bHqM8rCkTRqzPnAx8B",
      "include_colab_link": true
    },
    "kernelspec": {
      "name": "python3",
      "display_name": "Python 3"
    },
    "language_info": {
      "name": "python"
    }
  },
  "cells": [
    {
      "cell_type": "markdown",
      "metadata": {
        "id": "view-in-github",
        "colab_type": "text"
      },
      "source": [
        "<a href=\"https://colab.research.google.com/github/saikirananugam/AI/blob/main/Assignment1.ipynb\" target=\"_parent\"><img src=\"https://colab.research.google.com/assets/colab-badge.svg\" alt=\"Open In Colab\"/></a>"
      ]
    },
    {
      "cell_type": "code",
      "metadata": {
        "colab": {
          "base_uri": "https://localhost:8080/"
        },
        "id": "yUi0ZRIidTsU",
        "outputId": "516a59f0-11ca-4290-f1ab-1c30715a60e7"
      },
      "source": [
        "from scipy.optimize import linprog\n",
        "obj=[-50,-120]\n",
        "a_ieq=[[7000,2000],[10,30],[1,1]]\n",
        "b_ieq=[700000,1200,110]\n",
        "boundary=[(0,float('inf')),(0,float('inf'))]\n",
        "opt=linprog(c=obj,A_ub=a_ieq,b_ub=b_ieq,A_eq=None,b_eq=None,bounds=boundary,method=\"simplex\")\n",
        "print('Number of hectares of wheat is : ',round(opt.x[0]))\n",
        "print('Number of hectares of barley is : ',round(opt.x[1]))\n",
        "print('Profit earned is : ',50*round((opt.x[0]))+120*round((opt.x[1])))"
      ],
      "execution_count": 6,
      "outputs": [
        {
          "output_type": "stream",
          "text": [
            "Number of hectares of wheat is :  98\n",
            "Number of hectares of barley is :  7\n",
            "Profit earned is :  5740\n"
          ],
          "name": "stdout"
        }
      ]
    }
  ]
}