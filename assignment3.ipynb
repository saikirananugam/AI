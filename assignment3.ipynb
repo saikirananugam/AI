{
  "nbformat": 4,
  "nbformat_minor": 0,
  "metadata": {
    "colab": {
      "name": "assignment3.ipynb",
      "provenance": [],
      "authorship_tag": "ABX9TyM1ISffCcHAVMnJzE5mHufa",
      "include_colab_link": true
    },
    "kernelspec": {
      "name": "python3",
      "display_name": "Python 3"
    },
    "language_info": {
      "name": "python"
    }
  },
  "cells": [
    {
      "cell_type": "markdown",
      "metadata": {
        "id": "view-in-github",
        "colab_type": "text"
      },
      "source": [
        "<a href=\"https://colab.research.google.com/github/saikirananugam/AI/blob/main/assignment3.ipynb\" target=\"_parent\"><img src=\"https://colab.research.google.com/assets/colab-badge.svg\" alt=\"Open In Colab\"/></a>"
      ]
    },
    {
      "cell_type": "code",
      "metadata": {
        "colab": {
          "base_uri": "https://localhost:8080/"
        },
        "id": "DDZD8W401Btv",
        "outputId": "fc760040-f68c-4d7f-891b-b82178ad6eb3"
      },
      "source": [
        "import numpy as np\n",
        "import math as m\n",
        "\n",
        "x = np.random.uniform(-12,12)\n",
        "y = np.random.uniform(-12,12)\n",
        "\n",
        "eta = 0.01\n",
        "iterations = 10000\n",
        "\n",
        "for i in range(iterations):\n",
        "    gradx = 6*x\n",
        "    grady = -5*m.exp(-y)\n",
        "    stepx = -eta*gradx\n",
        "    stepy = -eta*grady\n",
        "    x += stepx\n",
        "    y += stepy\n",
        "\n",
        "x = round(x)\n",
        "y = round(y)\n",
        "\n",
        "print(f'The value of x,y : ', x, y)\n",
        "print(f'Minimum Value of f(x,y) : ', (3*x**2)+(5*m.exp(-y))+10 )"
      ],
      "execution_count": 1,
      "outputs": [
        {
          "output_type": "stream",
          "name": "stdout",
          "text": [
            "The value of x,y :  0 1156\n",
            "Minimum Value of f(x,y) :  10.0\n"
          ]
        }
      ]
    }
  ]
}